{
  "nbformat": 4,
  "nbformat_minor": 0,
  "metadata": {
    "colab": {
      "provenance": [],
      "authorship_tag": "ABX9TyOF3xiIzaWtLezQwN9Q3Y86",
      "include_colab_link": true
    },
    "kernelspec": {
      "name": "python3",
      "display_name": "Python 3"
    },
    "language_info": {
      "name": "python"
    }
  },
  "cells": [
    {
      "cell_type": "markdown",
      "metadata": {
        "id": "view-in-github",
        "colab_type": "text"
      },
      "source": [
        "<a href=\"https://colab.research.google.com/github/prajwaldc54/Analysis-of-Social-and-Biological-Networks/blob/main/HW2.ipynb\" target=\"_parent\"><img src=\"https://colab.research.google.com/assets/colab-badge.svg\" alt=\"Open In Colab\"/></a>"
      ]
    },
    {
      "cell_type": "code",
      "execution_count": null,
      "metadata": {
        "colab": {
          "base_uri": "https://localhost:8080/"
        },
        "id": "yTp3YoyWtnVX",
        "outputId": "1163905a-1f3b-4a3d-cbd1-7528cea2f10f"
      },
      "outputs": [
        {
          "output_type": "stream",
          "name": "stdout",
          "text": [
            "Requirement already satisfied: networkx in /usr/local/lib/python3.11/dist-packages (3.4.2)\n"
          ]
        }
      ],
      "source": [
        "!pip install networkx\n"
      ]
    },
    {
      "cell_type": "code",
      "source": [
        "import networkx as nx"
      ],
      "metadata": {
        "id": "E_IbXLUnxSmQ"
      },
      "execution_count": null,
      "outputs": []
    },
    {
      "cell_type": "code",
      "source": [
        "from google.colab import files\n",
        "upload = files.upload()"
      ],
      "metadata": {
        "colab": {
          "base_uri": "https://localhost:8080/",
          "height": 73
        },
        "id": "g-MkjOaqzx0i",
        "outputId": "3d9ec1fd-57b7-4354-90d5-111940e54b4d"
      },
      "execution_count": null,
      "outputs": [
        {
          "output_type": "display_data",
          "data": {
            "text/plain": [
              "<IPython.core.display.HTML object>"
            ],
            "text/html": [
              "\n",
              "     <input type=\"file\" id=\"files-cf011a64-4522-4fd3-859d-bdbc6893c6e1\" name=\"files[]\" multiple disabled\n",
              "        style=\"border:none\" />\n",
              "     <output id=\"result-cf011a64-4522-4fd3-859d-bdbc6893c6e1\">\n",
              "      Upload widget is only available when the cell has been executed in the\n",
              "      current browser session. Please rerun this cell to enable.\n",
              "      </output>\n",
              "      <script>// Copyright 2017 Google LLC\n",
              "//\n",
              "// Licensed under the Apache License, Version 2.0 (the \"License\");\n",
              "// you may not use this file except in compliance with the License.\n",
              "// You may obtain a copy of the License at\n",
              "//\n",
              "//      http://www.apache.org/licenses/LICENSE-2.0\n",
              "//\n",
              "// Unless required by applicable law or agreed to in writing, software\n",
              "// distributed under the License is distributed on an \"AS IS\" BASIS,\n",
              "// WITHOUT WARRANTIES OR CONDITIONS OF ANY KIND, either express or implied.\n",
              "// See the License for the specific language governing permissions and\n",
              "// limitations under the License.\n",
              "\n",
              "/**\n",
              " * @fileoverview Helpers for google.colab Python module.\n",
              " */\n",
              "(function(scope) {\n",
              "function span(text, styleAttributes = {}) {\n",
              "  const element = document.createElement('span');\n",
              "  element.textContent = text;\n",
              "  for (const key of Object.keys(styleAttributes)) {\n",
              "    element.style[key] = styleAttributes[key];\n",
              "  }\n",
              "  return element;\n",
              "}\n",
              "\n",
              "// Max number of bytes which will be uploaded at a time.\n",
              "const MAX_PAYLOAD_SIZE = 100 * 1024;\n",
              "\n",
              "function _uploadFiles(inputId, outputId) {\n",
              "  const steps = uploadFilesStep(inputId, outputId);\n",
              "  const outputElement = document.getElementById(outputId);\n",
              "  // Cache steps on the outputElement to make it available for the next call\n",
              "  // to uploadFilesContinue from Python.\n",
              "  outputElement.steps = steps;\n",
              "\n",
              "  return _uploadFilesContinue(outputId);\n",
              "}\n",
              "\n",
              "// This is roughly an async generator (not supported in the browser yet),\n",
              "// where there are multiple asynchronous steps and the Python side is going\n",
              "// to poll for completion of each step.\n",
              "// This uses a Promise to block the python side on completion of each step,\n",
              "// then passes the result of the previous step as the input to the next step.\n",
              "function _uploadFilesContinue(outputId) {\n",
              "  const outputElement = document.getElementById(outputId);\n",
              "  const steps = outputElement.steps;\n",
              "\n",
              "  const next = steps.next(outputElement.lastPromiseValue);\n",
              "  return Promise.resolve(next.value.promise).then((value) => {\n",
              "    // Cache the last promise value to make it available to the next\n",
              "    // step of the generator.\n",
              "    outputElement.lastPromiseValue = value;\n",
              "    return next.value.response;\n",
              "  });\n",
              "}\n",
              "\n",
              "/**\n",
              " * Generator function which is called between each async step of the upload\n",
              " * process.\n",
              " * @param {string} inputId Element ID of the input file picker element.\n",
              " * @param {string} outputId Element ID of the output display.\n",
              " * @return {!Iterable<!Object>} Iterable of next steps.\n",
              " */\n",
              "function* uploadFilesStep(inputId, outputId) {\n",
              "  const inputElement = document.getElementById(inputId);\n",
              "  inputElement.disabled = false;\n",
              "\n",
              "  const outputElement = document.getElementById(outputId);\n",
              "  outputElement.innerHTML = '';\n",
              "\n",
              "  const pickedPromise = new Promise((resolve) => {\n",
              "    inputElement.addEventListener('change', (e) => {\n",
              "      resolve(e.target.files);\n",
              "    });\n",
              "  });\n",
              "\n",
              "  const cancel = document.createElement('button');\n",
              "  inputElement.parentElement.appendChild(cancel);\n",
              "  cancel.textContent = 'Cancel upload';\n",
              "  const cancelPromise = new Promise((resolve) => {\n",
              "    cancel.onclick = () => {\n",
              "      resolve(null);\n",
              "    };\n",
              "  });\n",
              "\n",
              "  // Wait for the user to pick the files.\n",
              "  const files = yield {\n",
              "    promise: Promise.race([pickedPromise, cancelPromise]),\n",
              "    response: {\n",
              "      action: 'starting',\n",
              "    }\n",
              "  };\n",
              "\n",
              "  cancel.remove();\n",
              "\n",
              "  // Disable the input element since further picks are not allowed.\n",
              "  inputElement.disabled = true;\n",
              "\n",
              "  if (!files) {\n",
              "    return {\n",
              "      response: {\n",
              "        action: 'complete',\n",
              "      }\n",
              "    };\n",
              "  }\n",
              "\n",
              "  for (const file of files) {\n",
              "    const li = document.createElement('li');\n",
              "    li.append(span(file.name, {fontWeight: 'bold'}));\n",
              "    li.append(span(\n",
              "        `(${file.type || 'n/a'}) - ${file.size} bytes, ` +\n",
              "        `last modified: ${\n",
              "            file.lastModifiedDate ? file.lastModifiedDate.toLocaleDateString() :\n",
              "                                    'n/a'} - `));\n",
              "    const percent = span('0% done');\n",
              "    li.appendChild(percent);\n",
              "\n",
              "    outputElement.appendChild(li);\n",
              "\n",
              "    const fileDataPromise = new Promise((resolve) => {\n",
              "      const reader = new FileReader();\n",
              "      reader.onload = (e) => {\n",
              "        resolve(e.target.result);\n",
              "      };\n",
              "      reader.readAsArrayBuffer(file);\n",
              "    });\n",
              "    // Wait for the data to be ready.\n",
              "    let fileData = yield {\n",
              "      promise: fileDataPromise,\n",
              "      response: {\n",
              "        action: 'continue',\n",
              "      }\n",
              "    };\n",
              "\n",
              "    // Use a chunked sending to avoid message size limits. See b/62115660.\n",
              "    let position = 0;\n",
              "    do {\n",
              "      const length = Math.min(fileData.byteLength - position, MAX_PAYLOAD_SIZE);\n",
              "      const chunk = new Uint8Array(fileData, position, length);\n",
              "      position += length;\n",
              "\n",
              "      const base64 = btoa(String.fromCharCode.apply(null, chunk));\n",
              "      yield {\n",
              "        response: {\n",
              "          action: 'append',\n",
              "          file: file.name,\n",
              "          data: base64,\n",
              "        },\n",
              "      };\n",
              "\n",
              "      let percentDone = fileData.byteLength === 0 ?\n",
              "          100 :\n",
              "          Math.round((position / fileData.byteLength) * 100);\n",
              "      percent.textContent = `${percentDone}% done`;\n",
              "\n",
              "    } while (position < fileData.byteLength);\n",
              "  }\n",
              "\n",
              "  // All done.\n",
              "  yield {\n",
              "    response: {\n",
              "      action: 'complete',\n",
              "    }\n",
              "  };\n",
              "}\n",
              "\n",
              "scope.google = scope.google || {};\n",
              "scope.google.colab = scope.google.colab || {};\n",
              "scope.google.colab._files = {\n",
              "  _uploadFiles,\n",
              "  _uploadFilesContinue,\n",
              "};\n",
              "})(self);\n",
              "</script> "
            ]
          },
          "metadata": {}
        },
        {
          "output_type": "stream",
          "name": "stdout",
          "text": [
            "Saving lesmis.gml to lesmis (2).gml\n"
          ]
        }
      ]
    },
    {
      "cell_type": "code",
      "source": [
        "g = nx.read_gml(\"lesmis.gml\")\n",
        "print (f\"nodes: {g.number_of_nodes()} edges: {g.number_of_edges()}\")\n",
        "count = 0\n",
        "print(\"First 5 nodes:\")\n",
        "for label in g.nodes:\n",
        "  print(label)\n",
        "  count += 1\n",
        "  if count >= 5:\n",
        "   break"
      ],
      "metadata": {
        "colab": {
          "base_uri": "https://localhost:8080/"
        },
        "id": "K3SHZzQ50zTH",
        "outputId": "1832ff15-51d7-4a12-ce6b-d51fd96c52be"
      },
      "execution_count": null,
      "outputs": [
        {
          "output_type": "stream",
          "name": "stdout",
          "text": [
            "nodes: 77 edges: 254\n",
            "First 5 nodes:\n",
            "Myriel\n",
            "Napoleon\n",
            "MlleBaptistine\n",
            "MmeMagloire\n",
            "CountessDeLo\n"
          ]
        }
      ]
    },
    {
      "cell_type": "code",
      "source": [
        "def average_degree(g):\n",
        "  if g.number_of_nodes() == 0:\n",
        "     return 0\n",
        "\n",
        "total_degree = 0\n",
        "for node in g.nodes():\n",
        "  total_degree += g.degree(node)\n",
        "\n",
        "def average_degree(g):\n",
        "  if g.number_of_nodes() == 0:\n",
        "     return 0\n",
        "\n",
        "  total_degree = 0\n",
        "  for node in g.nodes():\n",
        "    total_degree += g.degree(node)\n",
        "\n",
        "  num_nodes = g.number_of_nodes()\n",
        "  avg_degree = total_degree / num_nodes\n",
        "\n",
        "  return avg_degree\n"
      ],
      "metadata": {
        "id": "G7Yj9e7p4qBG"
      },
      "execution_count": null,
      "outputs": []
    },
    {
      "cell_type": "code",
      "source": [
        "avg = average_degree(g)\n",
        "print(f\"The average of the degrees are: {avg}\")"
      ],
      "metadata": {
        "colab": {
          "base_uri": "https://localhost:8080/"
        },
        "id": "5_7YowGuWqWe",
        "outputId": "563b4de7-8386-404c-fe9b-64f78ef45490"
      },
      "execution_count": null,
      "outputs": [
        {
          "output_type": "stream",
          "name": "stdout",
          "text": [
            "The average of the degrees are: 6.597402597402597\n"
          ]
        }
      ]
    },
    {
      "cell_type": "code",
      "source": [
        "def max_degree(g):\n",
        "  max_node = None\n",
        "  max_degree = 0\n",
        "  for node in g.nodes():\n",
        "    degree = g.degree(node)\n",
        "    if degree > max_degree:\n",
        "      max_degree = degree\n",
        "      max_node = node\n",
        "  print(f\"Max node = {max_node}, degree = {max_degree}\")"
      ],
      "metadata": {
        "id": "TglwkaxxcDM2"
      },
      "execution_count": null,
      "outputs": []
    },
    {
      "cell_type": "code",
      "source": [
        "max = max_degree(g)"
      ],
      "metadata": {
        "colab": {
          "base_uri": "https://localhost:8080/"
        },
        "id": "TCX6lzlohAfe",
        "outputId": "eb5c4dbe-2254-44da-faf9-4ef5b107acd0"
      },
      "execution_count": null,
      "outputs": [
        {
          "output_type": "stream",
          "name": "stdout",
          "text": [
            "Max node = Valjean, degree = 36\n"
          ]
        }
      ]
    },
    {
      "cell_type": "code",
      "source": [
        "import networkx as nx\n",
        "\n",
        "def degree_structure(g):\n",
        "  degree_counts = nx.degree_histogram(g)\n",
        "  print(\"Degree\\tNumber\")\n",
        "  for degree, count in enumerate(degree_counts):\n",
        "   print(f\"{degree}\\t{count}\")\n",
        "\n",
        "file_name = \"lesmis.gml\"\n",
        "g = nx.read_gml(file_name)\n",
        "\n",
        "degree_structure(g)"
      ],
      "metadata": {
        "colab": {
          "base_uri": "https://localhost:8080/"
        },
        "id": "be_O4aN4hj8I",
        "outputId": "fc1ef196-045d-4f86-c851-952f8028a13f"
      },
      "execution_count": null,
      "outputs": [
        {
          "output_type": "stream",
          "name": "stdout",
          "text": [
            "Degree\tNumber\n",
            "0\t0\n",
            "1\t17\n",
            "2\t10\n",
            "3\t6\n",
            "4\t3\n",
            "5\t0\n",
            "6\t5\n",
            "7\t10\n",
            "8\t1\n",
            "9\t3\n",
            "10\t5\n",
            "11\t6\n",
            "12\t2\n",
            "13\t2\n",
            "14\t0\n",
            "15\t2\n",
            "16\t1\n",
            "17\t1\n",
            "18\t0\n",
            "19\t1\n",
            "20\t0\n",
            "21\t0\n",
            "22\t1\n",
            "23\t0\n",
            "24\t0\n",
            "25\t0\n",
            "26\t0\n",
            "27\t0\n",
            "28\t0\n",
            "29\t0\n",
            "30\t0\n",
            "31\t0\n",
            "32\t0\n",
            "33\t0\n",
            "34\t0\n",
            "35\t0\n",
            "36\t1\n"
          ]
        }
      ]
    },
    {
      "cell_type": "code",
      "source": [
        "import networkx as nx\n",
        "\n",
        "def degree_structure(g):\n",
        "  degree_counts = nx.degree_histogram(g)\n",
        "  print(\"Degree\\tNumber\")\n",
        "  for degree, count in enumerate(degree_counts):\n",
        "   print(f\"{degree}\\t{count}\")\n",
        "\n",
        "file_name = \"lesmis.gml\"\n",
        "g = nx.read_gml(file_name)\n",
        "\n",
        "max_degree = 36\n",
        "degree_counts = nx.degree_histogram(g)\n",
        "\n",
        "if len(degree_counts) <= max_degree:\n",
        "  degree_counts.extend([0] * (max_degree +1 - len(degree_counts)))\n",
        "\n",
        "print(\"Degree\\tNumber\")\n",
        "for degree in range(max_degree + 1):\n",
        "  count = degree_counts[degree]\n",
        "  print(f\"{degree}\\t{count}\")"
      ],
      "metadata": {
        "colab": {
          "base_uri": "https://localhost:8080/"
        },
        "id": "B2R1VmgDuHsQ",
        "outputId": "61a9c994-b374-4df4-e806-7adff2e913c2"
      },
      "execution_count": null,
      "outputs": [
        {
          "output_type": "stream",
          "name": "stdout",
          "text": [
            "Degree\tNumber\n",
            "0\t0\n",
            "1\t17\n",
            "2\t10\n",
            "3\t6\n",
            "4\t3\n",
            "5\t0\n",
            "6\t5\n",
            "7\t10\n",
            "8\t1\n",
            "9\t3\n",
            "10\t5\n",
            "11\t6\n",
            "12\t2\n",
            "13\t2\n",
            "14\t0\n",
            "15\t2\n",
            "16\t1\n",
            "17\t1\n",
            "18\t0\n",
            "19\t1\n",
            "20\t0\n",
            "21\t0\n",
            "22\t1\n",
            "23\t0\n",
            "24\t0\n",
            "25\t0\n",
            "26\t0\n",
            "27\t0\n",
            "28\t0\n",
            "29\t0\n",
            "30\t0\n",
            "31\t0\n",
            "32\t0\n",
            "33\t0\n",
            "34\t0\n",
            "35\t0\n",
            "36\t1\n"
          ]
        }
      ]
    },
    {
      "cell_type": "code",
      "source": [
        "!ls"
      ],
      "metadata": {
        "colab": {
          "base_uri": "https://localhost:8080/"
        },
        "id": "vtkW8_6CxoUO",
        "outputId": "3878dcaa-cc10-488f-ac48-3c6688e55f45"
      },
      "execution_count": null,
      "outputs": [
        {
          "output_type": "stream",
          "name": "stdout",
          "text": [
            "'lesmis (1).gml'  'lesmis (2).gml'   lesmis.gml   sample_data\n"
          ]
        }
      ]
    },
    {
      "cell_type": "code",
      "source": [
        "import networkx as nx\n",
        "import matplotlib.pyplot as plt\n",
        "\n",
        "def degree_structure(g):\n",
        "  degree_counts = nx.degree_histogram(g)\n",
        "  degree = list(range(len(degree_counts)))\n",
        "  count_list = degree_counts\n",
        "\n",
        "#zip to combine into a pair\n",
        "#d had to change from degree because it gives erro because of same name\n",
        "  print(\"Degree\\tNumber\")\n",
        "  for d, count in zip(degree, count_list):\n",
        "   print(f\"{d}\\t{count}\")\n",
        "\n",
        "  return degree, count_list\n",
        "\n",
        "file_name = \"lesmis.gml\"\n",
        "g = nx.read_gml(file_name)\n",
        "\n",
        "degree, count_list = degree_structure(g)\n",
        "\n",
        "plt.plot(degree, count_list, color='green', marker='o')\n",
        "plt.title(\"Degree Structure\")\n",
        "plt.xlabel(\"Degree\")\n",
        "plt.ylabel(\"Number\")\n",
        "plt.grid(True)\n",
        "plt.show()"
      ],
      "metadata": {
        "colab": {
          "base_uri": "https://localhost:8080/",
          "height": 1000
        },
        "id": "Kz9wkp5WHFXa",
        "outputId": "c9ba025b-5b30-4472-ab95-7614fe171b1e"
      },
      "execution_count": null,
      "outputs": [
        {
          "output_type": "stream",
          "name": "stdout",
          "text": [
            "Degree\tNumber\n",
            "0\t0\n",
            "1\t17\n",
            "2\t10\n",
            "3\t6\n",
            "4\t3\n",
            "5\t0\n",
            "6\t5\n",
            "7\t10\n",
            "8\t1\n",
            "9\t3\n",
            "10\t5\n",
            "11\t6\n",
            "12\t2\n",
            "13\t2\n",
            "14\t0\n",
            "15\t2\n",
            "16\t1\n",
            "17\t1\n",
            "18\t0\n",
            "19\t1\n",
            "20\t0\n",
            "21\t0\n",
            "22\t1\n",
            "23\t0\n",
            "24\t0\n",
            "25\t0\n",
            "26\t0\n",
            "27\t0\n",
            "28\t0\n",
            "29\t0\n",
            "30\t0\n",
            "31\t0\n",
            "32\t0\n",
            "33\t0\n",
            "34\t0\n",
            "35\t0\n",
            "36\t1\n"
          ]
        },
        {
          "output_type": "display_data",
          "data": {
            "text/plain": [
              "<Figure size 640x480 with 1 Axes>"
            ],
            "image/png": "[encoded data removed]"
          },
          "metadata": {}
        }
      ]
    }
  ]
}